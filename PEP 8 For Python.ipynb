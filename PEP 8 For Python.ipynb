{
 "cells": [
  {
   "cell_type": "markdown",
   "metadata": {},
   "source": [
    "# PEP(Python Enhancement Proposal)"
   ]
  },
  {
   "cell_type": "markdown",
   "metadata": {},
   "source": [
    "# regular_variables :"
   ]
  },
  {
   "cell_type": "markdown",
   "metadata": {},
   "source": [
    "regular variables :Variable names should be lowercase, where necessary separating words by underscores"
   ]
  },
  {
   "cell_type": "code",
   "execution_count": 8,
   "metadata": {},
   "outputs": [],
   "source": [
    "a_tango_artist = 'Astor Piazzolla'"
   ]
  },
  {
   "cell_type": "markdown",
   "metadata": {},
   "source": [
    "CONSTANTS:\n",
    "In Python, all variables can be modified Therefore, real constants donot exist\n",
    "But to indicate that a variable should be treated as if it were a constant, names should be \n",
    "uppercase, where necessary separating words by underscores"
   ]
  },
  {
   "cell_type": "code",
   "execution_count": 9,
   "metadata": {},
   "outputs": [],
   "source": [
    "TANGO_ARTISTS = [\n",
    "    'Astor Piazzolla',\n",
    "    'Hugo Díaz',\n",
    "    'Aníbal Troilo'\n",
    "]"
   ]
  },
  {
   "cell_type": "code",
   "execution_count": 10,
   "metadata": {},
   "outputs": [
    {
     "data": {
      "text/plain": [
       "['Astor Piazzolla', 'Hugo Díaz', 'Aníbal Troilo']"
      ]
     },
     "execution_count": 10,
     "metadata": {},
     "output_type": "execute_result"
    }
   ],
   "source": [
    "TANGO_ARTISTS"
   ]
  },
  {
   "cell_type": "code",
   "execution_count": 11,
   "metadata": {},
   "outputs": [],
   "source": [
    "#function_names"
   ]
  },
  {
   "cell_type": "markdown",
   "metadata": {},
   "source": [
    "Names of functions and class methods should be lowercase, where necessary separating words by underscores"
   ]
  },
  {
   "cell_type": "code",
   "execution_count": 15,
   "metadata": {},
   "outputs": [
    {
     "name": "stdout",
     "output_type": "stream",
     "text": [
      "Hugo Díaz\n"
     ]
    }
   ],
   "source": [
    "import random\n",
    "def random_tango_artists():\n",
    "    return random.choice(TANGO_ARTISTS)\n",
    "print(random_tango_artists())"
   ]
  },
  {
   "cell_type": "code",
   "execution_count": 17,
   "metadata": {},
   "outputs": [],
   "source": [
    "#ClassNames\n"
   ]
  },
  {
   "cell_type": "markdown",
   "metadata": {},
   "source": [
    "Class names should capitalize the first letter of each word"
   ]
  },
  {
   "cell_type": "code",
   "execution_count": 21,
   "metadata": {},
   "outputs": [
    {
     "name": "stdout",
     "output_type": "stream",
     "text": [
      "Aníbal Troilo\n"
     ]
    }
   ],
   "source": [
    "class TangoArtist:\n",
    "    \n",
    "    def __init__(self, name):\n",
    "        \n",
    "        self.name = name\n",
    "        \n",
    "    def __str__(self):\n",
    "        \n",
    "        return self.name\n",
    "    \n",
    "    \n",
    "anibal_troilo = TangoArtist(name='Aníbal Troilo')\n",
    "print(anibal_troilo)\n",
    "        \n",
    "        "
   ]
  },
  {
   "cell_type": "code",
   "execution_count": 22,
   "metadata": {},
   "outputs": [],
   "source": [
    "#FactoryFunctionNames()"
   ]
  },
  {
   "cell_type": "markdown",
   "metadata": {},
   "source": [
    "Factory functions return objects\n",
    "Therefore, to users of your code, factory functions act like class definitions\n",
    "To reflect this, factory-function names should also capitalize the first letter of each word"
   ]
  },
  {
   "cell_type": "code",
   "execution_count": 23,
   "metadata": {},
   "outputs": [
    {
     "name": "stdout",
     "output_type": "stream",
     "text": [
      "Astor Piazzolla\n"
     ]
    }
   ],
   "source": [
    "def AstorPiazzolla():\n",
    "    \n",
    "    return TangoArtist(name='Astor Piazzolla')\n",
    "\n",
    "\n",
    "astor_piazzolla = AstorPiazzolla()\n",
    "print(astor_piazzolla)"
   ]
  },
  {
   "cell_type": "code",
   "execution_count": 24,
   "metadata": {},
   "outputs": [],
   "source": [
    "#_non_public_properties¶"
   ]
  },
  {
   "cell_type": "markdown",
   "metadata": {},
   "source": [
    "In Python, properties can be accessed from anywhere\n",
    "Therefore, private class properties don't exist\n",
    "But to indicate that a property should be treated as if it were private, names should be prefixed with an underscore"
   ]
  },
  {
   "cell_type": "code",
   "execution_count": 26,
   "metadata": {},
   "outputs": [
    {
     "name": "stdout",
     "output_type": "stream",
     "text": [
      "Harmonica\n"
     ]
    }
   ],
   "source": [
    "class HugoDiaz(TangoArtist):\n",
    "    \n",
    "    def __init__(self):\n",
    "        \n",
    "        TangoArtist.__init__(self, name='Hugo Díaz')\n",
    "        self._instrument = 'Harmonica'\n",
    "        \n",
    "    @property\n",
    "    def instrument(self):\n",
    "        \n",
    "        return self._instrument\n",
    "    \n",
    "    \n",
    "hugo_diaz = HugoDiaz()\n",
    "print(hugo_diaz.instrument)"
   ]
  },
  {
   "cell_type": "code",
   "execution_count": 27,
   "metadata": {},
   "outputs": [],
   "source": [
    "#conflicting_names_"
   ]
  },
  {
   "cell_type": "markdown",
   "metadata": {},
   "source": [
    "If a name is already taken, suffix an underscore"
   ]
  },
  {
   "cell_type": "code",
   "execution_count": 29,
   "metadata": {},
   "outputs": [],
   "source": [
    "in_ = 'Tango'"
   ]
  },
  {
   "cell_type": "code",
   "execution_count": null,
   "metadata": {},
   "outputs": [],
   "source": []
  }
 ],
 "metadata": {
  "kernelspec": {
   "display_name": "Python 3",
   "language": "python",
   "name": "python3"
  },
  "language_info": {
   "codemirror_mode": {
    "name": "ipython",
    "version": 3
   },
   "file_extension": ".py",
   "mimetype": "text/x-python",
   "name": "python",
   "nbconvert_exporter": "python",
   "pygments_lexer": "ipython3",
   "version": "3.7.3"
  }
 },
 "nbformat": 4,
 "nbformat_minor": 2
}
